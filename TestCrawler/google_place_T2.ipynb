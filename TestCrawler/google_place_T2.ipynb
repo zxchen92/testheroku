{
 "cells": [
  {
   "cell_type": "code",
   "execution_count": 1,
   "id": "10a237d8",
   "metadata": {},
   "outputs": [],
   "source": [
    "from selenium import webdriver\n",
    "from selenium.webdriver.support.ui import WebDriverWait\n",
    "from selenium.webdriver.common.by import By\n",
    "from selenium.webdriver.support import expected_conditions as EC\n",
    "import re\n",
    "import time\n",
    "from bs4 import BeautifulSoup\n",
    "import pandas as pd"
   ]
  },
  {
   "cell_type": "code",
   "execution_count": 2,
   "id": "2bbad5dc",
   "metadata": {},
   "outputs": [
    {
     "name": "stderr",
     "output_type": "stream",
     "text": [
      "<ipython-input-2-12042359b2fd>:4: DeprecationWarning: executable_path has been deprecated, please pass in a Service object\n",
      "  driver = webdriver.Chrome(executable_path=chrome_driver_path, options=options)\n"
     ]
    },
    {
     "name": "stdout",
     "output_type": "stream",
     "text": [
      "    Food ID                         Business Name  \\\n",
      "0         1        Chen Fu Ji Fried Rice 陈福记 V3.2   \n",
      "1         1                       Warisan Kampung   \n",
      "2         1                    Asam Pedas Claypot   \n",
      "3         1    Mun Ee Seafood Restaurant (民利煮炒海鮮)   \n",
      "4         1                      Sabar Menanti II   \n",
      "5         1   Asam Tree Cafe, Bakery & Restaurant   \n",
      "6         1             Penang Seafood Restaurant   \n",
      "7         1   Rendezvous Restaurant Hock Lock Kee   \n",
      "8         1  Hjh Maimunah Restaurant and Catering   \n",
      "9         1                    Asam Pedas Claypot   \n",
      "10        2     Family Ayam Goreng & Western Food   \n",
      "11        2    Bebek Goreng Pak Ndut @Lucky Plaza   \n",
      "12        2         Sedap Corner Nasi Ayam Hainan   \n",
      "13        2     L&C A1 Ayam Goreng & Western Food   \n",
      "14        2                       Zilan Nasi Ayam   \n",
      "15        2                              La Porpo   \n",
      "16        2       Bebek Goreng Pak Ndut @Westgate   \n",
      "17        2                    Ayam Goreng Kawani   \n",
      "18        2                Super Penyet Singapore   \n",
      "19        2                Aunty Sham Ayam Penyet   \n",
      "20        2                                香味炸鸡Sg   \n",
      "21        2                      Yes! Nasi Kukus.   \n",
      "22        2   Asia Ghani Jamu Selera Chicken Rice   \n",
      "23        2                Papa Ayam 313@somerset   \n",
      "24        2                      Penyet & Grilled   \n",
      "25        2                       Sri Ayam Penyet   \n",
      "\n",
      "                                             URL Link  \n",
      "0   https://www.google.com/maps/place/Chen+Fu+Ji+F...  \n",
      "1   https://www.google.com/maps/place/Warisan+Kamp...  \n",
      "2   https://www.google.com/maps/place/Asam+Pedas+C...  \n",
      "3   https://www.google.com/maps/place/Mun+Ee+Seafo...  \n",
      "4   https://www.google.com/maps/place/Sabar+Menant...  \n",
      "5   https://www.google.com/maps/place/Asam+Tree+Ca...  \n",
      "6   https://www.google.com/maps/place/Penang+Seafo...  \n",
      "7   https://www.google.com/maps/place/Rendezvous+R...  \n",
      "8   https://www.google.com/maps/place/Hjh+Maimunah...  \n",
      "9   https://www.google.com/maps/place/Asam+Pedas+C...  \n",
      "10  https://www.google.com/maps/place/Family+Ayam+...  \n",
      "11  https://www.google.com/maps/place/Bebek+Goreng...  \n",
      "12  https://www.google.com/maps/place/Sedap+Corner...  \n",
      "13  https://www.google.com/maps/place/L%26C+A1+Aya...  \n",
      "14  https://www.google.com/maps/place/Zilan+Nasi+A...  \n",
      "15  https://www.google.com/maps/place/La+Porpo/dat...  \n",
      "16  https://www.google.com/maps/place/Bebek+Goreng...  \n",
      "17  https://www.google.com/maps/place/Ayam+Goreng+...  \n",
      "18  https://www.google.com/maps/place/Super+Penyet...  \n",
      "19  https://www.google.com/maps/place/Aunty+Sham+A...  \n",
      "20  https://www.google.com/maps/place/%E9%A6%99%E5...  \n",
      "21  https://www.google.com/maps/place/Yes!+Nasi+Ku...  \n",
      "22  https://www.google.com/maps/place/Asia+Ghani+J...  \n",
      "23  https://www.google.com/maps/place/Papa+Ayam+31...  \n",
      "24  https://www.google.com/maps/place/Penyet+%26+G...  \n",
      "25  https://www.google.com/maps/place/Sri+Ayam+Pen...  \n"
     ]
    }
   ],
   "source": [
    "chrome_driver_path = r\"\\chromedriver.exe\"\n",
    "\n",
    "options = webdriver.ChromeOptions()\n",
    "driver = webdriver.Chrome(executable_path=chrome_driver_path, options=options)\n",
    "\n",
    "foodID_list =[]\n",
    "businessName_list =[]\n",
    "url_list =[]\n",
    "\n",
    "food_list = (pd.read_csv(\"place_url.csv\")['foodid'])\n",
    "placeURL_list = (pd.read_csv(\"place_url.csv\")['placeURL'])\n",
    "foodPlace_dict = dict(zip(food_list, placeURL_list))\n",
    "\n",
    "for food, url in foodPlace_dict.items():\n",
    "    driver.get(url)\n",
    "    time.sleep(3)\n",
    "\n",
    "    #Find scroll layout\n",
    "    scrollable_div = driver.find_element(By.XPATH, '//*[@id=\"QA0Szd\"]/div/div/div[1]/div[2]/div/div[1]/div/div/div[2]/div[1]')\n",
    "    #Scroll as many times as necessary to load all reviews\n",
    "    for i in range(0,2):\n",
    "            driver.execute_script('arguments[0].scrollTop = arguments[0].scrollHeight',\n",
    "                    scrollable_div)\n",
    "            time.sleep(3)\n",
    "\n",
    "\n",
    "    businessDetail = driver.find_elements(By.CLASS_NAME, \"hfpxzc\")\n",
    "\n",
    "    for lnk in businessDetail:\n",
    "        foodID_list.append(food)\n",
    "        businessName_list.append(lnk.get_attribute('aria-label'))\n",
    "        url_list.append(lnk.get_attribute('href'))\n",
    "\n",
    "df = pd.DataFrame(list(zip(foodID_list,businessName_list, url_list)),\n",
    "                  columns=['Food ID','Business Name', 'URL Link'])\n",
    "\n",
    "print(df)\n",
    "df.to_csv(r'C:\\Users\\cheng\\google_place.csv',index=False)\n"
   ]
  },
  {
   "cell_type": "code",
   "execution_count": null,
   "id": "687b0d7b",
   "metadata": {},
   "outputs": [],
   "source": []
  }
 ],
 "metadata": {
  "kernelspec": {
   "display_name": "Python 3",
   "language": "python",
   "name": "python3"
  },
  "language_info": {
   "codemirror_mode": {
    "name": "ipython",
    "version": 3
   },
   "file_extension": ".py",
   "mimetype": "text/x-python",
   "name": "python",
   "nbconvert_exporter": "python",
   "pygments_lexer": "ipython3",
   "version": "3.8.8"
  }
 },
 "nbformat": 4,
 "nbformat_minor": 5
}
